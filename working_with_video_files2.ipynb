{
  "cells": [
    {
      "cell_type": "markdown",
      "metadata": {
        "id": "view-in-github",
        "colab_type": "text"
      },
      "source": [
        "<a href=\"https://colab.research.google.com/github/drpetros11111/Complete_ComputerVisiom_Krishn/blob/main/working_with_video_files2.ipynb\" target=\"_parent\"><img src=\"https://colab.research.google.com/assets/colab-badge.svg\" alt=\"Open In Colab\"/></a>"
      ]
    },
    {
      "cell_type": "code",
      "execution_count": null,
      "metadata": {
        "id": "-XUJD1vZfKC-"
      },
      "outputs": [],
      "source": [
        "import cv2"
      ]
    },
    {
      "cell_type": "code",
      "execution_count": null,
      "metadata": {
        "id": "1hN2WbfpfKDA"
      },
      "outputs": [],
      "source": [
        "# Load the video\n",
        "video = cv2.VideoCapture(\"./mountain.mp4\")"
      ]
    },
    {
      "cell_type": "code",
      "execution_count": null,
      "metadata": {
        "id": "nwDXOfQlfKDA"
      },
      "outputs": [],
      "source": [
        "# Display the video\n",
        "while True:\n",
        "    ret, frame = video.read()\n",
        "    if not ret:\n",
        "        break\n",
        "    cv2.imshow(\"Video Frame\", frame)\n",
        "    if cv2.waitKey(1) & 0xFF == ord('q'):\n",
        "        break\n",
        "\n",
        "# T0 ---> f1\n",
        "# wait 1 ms\n",
        "# # T1 ---> f2\n",
        "\n",
        "video.release()\n",
        "cv2.destroyAllWindows()\n",
        "\n"
      ]
    },
    {
      "cell_type": "markdown",
      "source": [],
      "metadata": {
        "id": "U9EKej8AfjbH"
      }
    },
    {
      "cell_type": "markdown",
      "source": [
        "# Display a video file with OpenCV\n",
        "\n",
        "This code snippet is designed to display a video loaded from a file using OpenCV (cv2) in Python within a Google Colab environment.\n",
        "\n",
        "---\n",
        "---\n",
        "\n",
        "\n",
        "Here's a detailed explanation:\n",
        "\n",
        "##1. while True:\n",
        "\n",
        "This initiates an infinite loop that will continue running until explicitly stopped by a break statement.\n",
        "\n",
        "-------------------\n",
        "##2. ret, frame = video.read()\n",
        "\n",
        "This line reads a frame from the video file using video.read().\n",
        "\n",
        "The method returns two values:\n",
        "\n",
        "##ret:\n",
        "A boolean indicating whether the frame was successfully read (True) or if the video has ended (False).\n",
        "\n",
        "##frame:\n",
        "The actual video frame as a NumPy array containing pixel data.\n",
        "\n",
        "---------------------\n",
        "##3. if not ret: break\n",
        "\n",
        "This condition checks if ret is False (meaning no frame was read).\n",
        "\n",
        "If it's False, it means the video has ended, so the loop is terminated using break.\n",
        "\n",
        "----------------------\n",
        "##4. cv2.imshow(\"Video Frame\", frame)\n",
        "\n",
        "This line displays the extracted frame in a window titled \"Video Frame\" using cv2.imshow().\n",
        "\n",
        "-------------------\n",
        "##5. if cv2.waitKey(1) & 0xFF == ord('q'): break\n",
        "\n",
        "This line waits for a key press for 1 millisecond using cv2.waitKey(1).\n",
        "\n",
        "###& 0xFF is used to mask the key press value to 8 bits.\n",
        "\n",
        "###ord('q') gets the ASCII value of the 'q' key.\n",
        "\n",
        "If the pressed key is 'q', the loop is terminated using break, effectively stopping the video display.\n",
        "\n",
        "-------------\n",
        "##6. video.release()\n",
        "\n",
        "This line releases the video capture object (video), freeing up resources.\n",
        "\n",
        "It is crucial to perform this step to avoid memory leaks and ensure proper cleanup.\n",
        "\n",
        "-------------\n",
        "##7. cv2.destroyAllWindows()\n",
        "\n",
        "This line closes all open OpenCV windows, ensuring a clean exit.\n",
        "\n",
        "In essence, this code reads frames from a video file, displays them in a window, and allows the user to exit the display by pressing the 'q' key.\n",
        "\n",
        "Finally, it cleans up by releasing resources and closing windows.\n",
        "\n",
        "The comments about T0, T1, and f1, f2 likely refer to the timing and frame sequence of the video:\n",
        "\n",
        "------------------\n",
        "##T0 ---> f1:\n",
        "\n",
        "Indicates that at time T0, frame f1 is displayed.\n",
        "\n",
        "\n",
        "##wait 1 ms:\n",
        "\n",
        "The code pauses for 1 millisecond before proceeding.\n",
        "\n",
        "##T1 ---> f2:\n",
        "\n",
        "Indicates that at time T1 (1 millisecond after T0), frame f2 is displayed.\n",
        "\n",
        "This continues for the duration of the video until it ends or the 'q' key is pressed."
      ],
      "metadata": {
        "id": "7d8MzmYtfXpP"
      }
    },
    {
      "cell_type": "code",
      "execution_count": null,
      "metadata": {
        "id": "KVRm_URCfKDB"
      },
      "outputs": [],
      "source": [
        "# Write a video\n",
        "\n",
        "video = cv2.VideoCapture(\"./mountain.mp4\")\n",
        "\n",
        "fourcc = cv2.VideoWriter_fourcc(*\"mp4v\")\n",
        "\n",
        "width = int(video.get(cv2.CAP_PROP_FRAME_WIDTH))\n",
        "height = int(video.get(cv2.CAP_PROP_FRAME_HEIGHT))\n",
        "\n",
        "out = cv2.VideoWriter(\"./output.mp4\", fourcc, 30, (width, height))\n",
        "\n",
        "while True:\n",
        "    ret, frame = video.read()\n",
        "    if not ret:\n",
        "        break\n",
        "    out.write(frame)\n",
        "\n",
        "out.release()\n",
        "video.release()\n",
        "cv2.destroyAllWindows()"
      ]
    },
    {
      "cell_type": "code",
      "execution_count": null,
      "metadata": {
        "id": "mzgydyLofKDB"
      },
      "outputs": [],
      "source": [
        "# Write a video with updated frames\n",
        "\n",
        "video = cv2.VideoCapture(\"./mountain.mp4\")\n",
        "\n",
        "fourcc = cv2.VideoWriter_fourcc(*\"mp4v\")\n",
        "\n",
        "width = int(video.get(cv2.CAP_PROP_FRAME_WIDTH))\n",
        "height = int(video.get(cv2.CAP_PROP_FRAME_HEIGHT))\n",
        "\n",
        "out = cv2.VideoWriter(\"./output_new.mp4\", fourcc, 30, (width, height))\n",
        "\n",
        "while True:\n",
        "    ret, frame = video.read()\n",
        "    if not ret:\n",
        "        break\n",
        "    frame = frame + 20\n",
        "    out.write(frame)\n",
        "\n",
        "out.release()\n",
        "video.release()\n",
        "cv2.destroyAllWindows()"
      ]
    },
    {
      "cell_type": "code",
      "execution_count": null,
      "metadata": {
        "id": "2Bt9zNRMfKDB"
      },
      "outputs": [],
      "source": []
    }
  ],
  "metadata": {
    "kernelspec": {
      "display_name": "KNCVU",
      "language": "python",
      "name": "python3"
    },
    "language_info": {
      "codemirror_mode": {
        "name": "ipython",
        "version": 3
      },
      "file_extension": ".py",
      "mimetype": "text/x-python",
      "name": "python",
      "nbconvert_exporter": "python",
      "pygments_lexer": "ipython3",
      "version": "3.11.11"
    },
    "colab": {
      "provenance": [],
      "include_colab_link": true
    }
  },
  "nbformat": 4,
  "nbformat_minor": 0
}